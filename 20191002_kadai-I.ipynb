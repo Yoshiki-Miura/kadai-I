{
 "cells": [
  {
   "cell_type": "markdown",
   "metadata": {},
   "source": [
    "# Read Me\n",
    "このノートブックでは回帰問題と分類問題の評価指標の理解と実装を行います"
   ]
  },
  {
   "cell_type": "markdown",
   "metadata": {},
   "source": [
    "# 回帰問題の評価指標"
   ]
  },
  {
   "cell_type": "code",
   "execution_count": 180,
   "metadata": {
    "ExecuteTime": {
     "end_time": "2019-10-03T04:55:23.200801Z",
     "start_time": "2019-10-03T04:55:23.191818Z"
    }
   },
   "outputs": [],
   "source": [
    "import warnings\n",
    "\n",
    "import matplotlib.pyplot as plt\n",
    "import numpy as np\n",
    "import pandas as pd\n",
    "import seaborn as sns\n",
    "\n",
    "warnings.filterwarnings('ignore')\n",
    "\n",
    "%matplotlib inline"
   ]
  },
  {
   "cell_type": "markdown",
   "metadata": {},
   "source": [
    "## RMSE (Root Mean Squared Error)\n",
    "### 評価指標の導出方法\n",
    "モデルから計算した計算値（予測値）を $\\hat{y_i}$ とすると、RMSEは次の式によって定義される。  \n",
    "<br>\n",
    "<span style=\"font-size: 150%\">$\\sqrt{\\frac{1}{n} \\sum_{i=1}^{n} (y_{i} - \\hat{y_{i}})^2}$</span>\n",
    "<br>\n",
    "\n",
    "- 別名: 二乗平均平方根誤差\n",
    "\n",
    "### 評価指標の特性、どのようなときに使えるか使えないか\n",
    "\n",
    "- 平均化された誤差の値を示す。\n",
    "- 式の性質上、観測値と計算値（予測値）が近づくほど、RMSEは小さくなる。逆に、観測値と計算値（予測値）が遠くなると、RMSEが著しく増える。\n",
    "- 外れ値の少ないデータでは良い評価指標になる。\n",
    "- 外れ値に大きく依存するので、外れ値を重要視したいときに有効。\n",
    "- 大きな誤差を考慮したいときに使う\n",
    "\n",
    "### 簡単なデータで実装\n",
    "\n",
    "本当の値が3, 5, 8であるような数値を、それぞれ2, 4, 10と予測してしまった。このときのRMSEを求める\n",
    "\n",
    "<span style=\"font-size: 150%\">\\begin{align}RMSE &= \\sqrt{\\frac{1}{3} \\{(3 - 2)^2 + (5 - 4)^2  + (10 - 8)^2\\}}\\\\ &= 1.414...\\end{align}</span>"
   ]
  },
  {
   "cell_type": "markdown",
   "metadata": {},
   "source": [
    "### sklearnのbostonを利用して実装"
   ]
  },
  {
   "cell_type": "markdown",
   "metadata": {},
   "source": [
    "データの準備"
   ]
  },
  {
   "cell_type": "code",
   "execution_count": 182,
   "metadata": {
    "ExecuteTime": {
     "end_time": "2019-10-03T04:55:40.546124Z",
     "start_time": "2019-10-03T04:55:40.531165Z"
    }
   },
   "outputs": [],
   "source": [
    "from sklearn.datasets import load_boston\n",
    "\n",
    "boston = load_boston()"
   ]
  },
  {
   "cell_type": "markdown",
   "metadata": {},
   "source": [
    "bostonの平均部屋数を行列X, 住宅価格をベクトルyに格納"
   ]
  },
  {
   "cell_type": "code",
   "execution_count": 183,
   "metadata": {
    "ExecuteTime": {
     "end_time": "2019-10-03T04:55:41.615237Z",
     "start_time": "2019-10-03T04:55:41.609246Z"
    }
   },
   "outputs": [
    {
     "data": {
      "text/plain": [
       "((506,), (506,), (506, 13))"
      ]
     },
     "execution_count": 183,
     "metadata": {},
     "output_type": "execute_result"
    }
   ],
   "source": [
    "X = boston.data[:, 5]\n",
    "y = boston.target\n",
    "y.shape, X.shape, boston.data.shape"
   ]
  },
  {
   "cell_type": "markdown",
   "metadata": {
    "ExecuteTime": {
     "end_time": "2019-10-02T02:07:44.723057Z",
     "start_time": "2019-10-02T02:07:44.713341Z"
    }
   },
   "source": [
    "トレーニング用とテスト用のデータに分け、図示"
   ]
  },
  {
   "cell_type": "code",
   "execution_count": 195,
   "metadata": {
    "ExecuteTime": {
     "end_time": "2019-10-03T05:00:02.020652Z",
     "start_time": "2019-10-03T05:00:01.759321Z"
    }
   },
   "outputs": [
    {
     "data": {
      "text/plain": [
       "<matplotlib.legend.Legend at 0x21fb60dd7c8>"
      ]
     },
     "execution_count": 195,
     "metadata": {},
     "output_type": "execute_result"
    },
    {
     "data": {
      "image/png": "[encoded data removed]",
      "text/plain": [
       "<Figure size 432x288 with 1 Axes>"
      ]
     },
     "metadata": {
      "needs_background": "light"
     },
     "output_type": "display_data"
    }
   ],
   "source": [
    "from sklearn.model_selection import train_test_split\n",
    "\n",
    "X_train, X_test, y_train, y_test = train_test_split(X, y, train_size=0.8, random_state=0)\n",
    "\n",
    "plt.scatter(X_train, y_train, label='Training data')\n",
    "plt.scatter(X_test, y_test, label='Test data')\n",
    "\n",
    "plt.xlabel('RM')\n",
    "plt.ylabel('MEDV')\n",
    "\n",
    "plt.legend()"
   ]
  },
  {
   "cell_type": "markdown",
   "metadata": {},
   "source": [
    "y = ax + bの未知変数a, bを学習して決定"
   ]
  },
  {
   "cell_type": "code",
   "execution_count": 196,
   "metadata": {
    "ExecuteTime": {
     "end_time": "2019-10-03T05:00:04.242918Z",
     "start_time": "2019-10-03T05:00:04.232943Z"
    }
   },
   "outputs": [
    {
     "data": {
      "text/plain": [
       "LinearRegression(copy_X=True, fit_intercept=True, n_jobs=None, normalize=False)"
      ]
     },
     "execution_count": 196,
     "metadata": {},
     "output_type": "execute_result"
    }
   ],
   "source": [
    "linear_regression = LinearRegression()\n",
    "\n",
    "# 学習 ( = 未知のパラメータの最適化 )\n",
    "linear_regression.fit(X_train.reshape(-1, 1), y_train)"
   ]
  },
  {
   "cell_type": "code",
   "execution_count": 197,
   "metadata": {
    "ExecuteTime": {
     "end_time": "2019-10-03T05:00:05.653963Z",
     "start_time": "2019-10-03T05:00:05.636017Z"
    },
    "scrolled": true
   },
   "outputs": [
    {
     "name": "stdout",
     "output_type": "stream",
     "text": [
      "今回のRSMEは6.848894190115315です\n"
     ]
    }
   ],
   "source": [
    "from sklearn.metrics import mean_squared_error\n",
    "a = linear_regression.coef_[0]\n",
    "b = linear_regression.intercept_\n",
    "\n",
    "df_test = pd.DataFrame()\n",
    "df_test['RM'] = X_test\n",
    "df_test['MEDV'] = y_test\n",
    "df_test = df_test[['RM', 'MEDV']]\n",
    "df_test.head()\n",
    "y_pred = []\n",
    "for i in X_test:\n",
    "    y_pred.append(a*i+b)\n",
    "\n",
    "print(f'今回のRSMEは{(mean_squared_error(y_test, y_pred))**0.5}です')"
   ]
  },
  {
   "cell_type": "markdown",
   "metadata": {
    "ExecuteTime": {
     "end_time": "2019-10-02T04:36:43.533838Z",
     "start_time": "2019-10-02T04:36:43.521336Z"
    }
   },
   "source": [
    "## MAE (Mean Absolute Error)\n",
    "### 評価指標の導出方法\n",
    "モデルから計算した計算値（予測値）を $\\hat{y_i}$ とすると、MAEは次の式によって定義される。  \n",
    "<br>\n",
    "<span style=\"font-size: 150%\">${\\frac{1}{n} \\sum_{i=1}^{n} |y_{i} - \\hat{y_{i}}|}$</span>\n",
    "<br>\n",
    "\n",
    "\n",
    "### 評価指標の特性、どのようなときに使えるか使えないか\n",
    "\n",
    "- RMSEと同様、平均化された誤差の値を示す。\n",
    "- RMSEと同様、観測値と計算値（予測値）が近づくほど、MAEは小さくなる。逆に、観測値と計算値（予測値）が遠くなると、MAEが増える。\n",
    "- RMSEに比べ、外れ値のデータには影響しづらい。\n",
    "- 大きな誤差をそれほど考慮しないで誤差を示したいときに使う。\n",
    "\n",
    "### 簡単なデータで実装\n",
    "\n",
    "本当の値が3, 5, 8であるような数値を、それぞれ2, 4, 10と予測してしまった。このときのMAEを求める\n",
    "\n",
    "<span style=\"font-size: 150%\">\\begin{align}MAE &= \\frac{1}{3} \\{|3 - 2| + |5 - 4| + |10 - 8|\\}\\\\ &= 1.333...\\end{align}</span>"
   ]
  },
  {
   "cell_type": "markdown",
   "metadata": {},
   "source": [
    "### sklearnのbostonを利用して実装"
   ]
  },
  {
   "cell_type": "code",
   "execution_count": 198,
   "metadata": {
    "ExecuteTime": {
     "end_time": "2019-10-03T05:00:14.420879Z",
     "start_time": "2019-10-03T05:00:14.413865Z"
    }
   },
   "outputs": [
    {
     "name": "stdout",
     "output_type": "stream",
     "text": [
      "今回のMAEは4.324740740011389です\n"
     ]
    }
   ],
   "source": [
    "from sklearn.metrics import mean_absolute_error\n",
    "print(f'今回のMAEは{mean_absolute_error(y_test, y_pred)}です')"
   ]
  },
  {
   "cell_type": "markdown",
   "metadata": {},
   "source": [
    "## R2 Score"
   ]
  },
  {
   "cell_type": "markdown",
   "metadata": {},
   "source": [
    "### 評価指標の導出方法\n",
    "モデルから計算した計算値（予測値）を $\\hat{y_i}$ , 観測値の平均を$\\bar{y_i}$とすると、R2 Scoreは次の式によって定義される。  \n",
    "<br>\n",
    "<span style=\"font-size: 150%\">$1 -  \\frac{\\sum^{n}_{i=1} (y_{i} - \\hat{y_{i}})^2}{\\sum^{n}_{i=1} (y_{i} - \\bar{y_{i}})^2}$</span>\n",
    "<br>\n",
    "\n",
    "\n",
    "### 評価指標の特性、どのようなときに使えるか使えないか\n",
    "\n",
    "- R2 Scoreは $\\hat{y_i}$ と $\\bar{y_i}$ が完全に一致する場合に 1 となり、1 に近いほど精度の高い予測が行えていることを表す。\n",
    "- 上記2つは誤差の指標だが、R2 Scoreは回帰モデルの正確さを示す指標。\n",
    "- モデルによって予測した値が実際の値とどの程度一致しているかを知りたいときに使う。\n",
    "\n",
    "### 簡単なデータで実装\n",
    "\n",
    "本当の値が3, 5, 7であるような数値を、それぞれ2, 4, 10と予測してしまった。このときのR2 Scoreを求める\n",
    "\n",
    "<span style=\"font-size: 150%\">$\\begin{align}R2 Score &= 1 -  \\frac{(3 - 2)^2 + (5 - 4)^2 + (10 - 7)^2}{(3 - 5)^2 + (5 - 5)^2 + (7 - 5)^2}\\\\ &= -0.375\\end{align}$</span>"
   ]
  },
  {
   "cell_type": "markdown",
   "metadata": {},
   "source": [
    "### sklearnのbostonを利用して実装"
   ]
  },
  {
   "cell_type": "code",
   "execution_count": 199,
   "metadata": {
    "ExecuteTime": {
     "end_time": "2019-10-03T05:00:16.575612Z",
     "start_time": "2019-10-03T05:00:16.568630Z"
    }
   },
   "outputs": [
    {
     "name": "stdout",
     "output_type": "stream",
     "text": [
      "今回のR2 Scoreは0.42394386816456275です\n"
     ]
    }
   ],
   "source": [
    "from sklearn.metrics import r2_score\n",
    "print(f'今回のR2 Scoreは{r2_score(y_test, y_pred)}です')"
   ]
  },
  {
   "cell_type": "markdown",
   "metadata": {},
   "source": [
    "# クラス分類の評価指標"
   ]
  },
  {
   "cell_type": "markdown",
   "metadata": {},
   "source": [
    "## 混同行列(Confusion Matrix)\n",
    "### 評価指標の導出方法\n",
    "2値分類問題において、\n",
    "- ターゲットをターゲットとして分類できたものをTP\n",
    "- ターゲットでないものをターゲットでないと分類できたものをTF\n",
    "- ターゲットをターゲットでないと分類したものをFN\n",
    "- ターゲットでないものをターゲットと分類したものをFP\n",
    "\n",
    "と呼ぶ。これを表に表すと  \n",
    "![](https://qiita-image-store.s3.ap-northeast-1.amazonaws.com/0/70152/29cc37e7-ff2e-d781-d4a4-e328fd7526a1.png)\n",
    "\n",
    "となる。これを行列で表すと、2行2列の行列になり、各要素に対応した判別個数が格納される\n",
    "\n",
    "### 評価指標の特性、どのようなときに使えるか使えないか\n",
    "\n",
    "- 4つの値を行列に格納することによって、演算しやすい、見やすい形となる。\n",
    "\n",
    "### 簡単なデータで実装\n",
    "\n",
    "猫を判別する2値分類問題を考えたときに  \n",
    "- TP: 13\n",
    "- TN: 8\n",
    "- FP: 9\n",
    "- FN: 3\n",
    "\n",
    "という結果だった場合、混同行列は  \n",
    "\n",
    "<span style=\"font-size: 150%\">$Confusion Matrix = \\biggl(\\begin{matrix}13&8\\\\9&3\\end{matrix}\\biggr)$</span>\n",
    "\n",
    "となる"
   ]
  },
  {
   "cell_type": "markdown",
   "metadata": {
    "ExecuteTime": {
     "end_time": "2019-10-02T07:08:57.880862Z",
     "start_time": "2019-10-02T07:08:57.851969Z"
    }
   },
   "source": [
    "### sklearnのbreat_cancer を利用して実装"
   ]
  },
  {
   "cell_type": "markdown",
   "metadata": {},
   "source": [
    "データ準備"
   ]
  },
  {
   "cell_type": "code",
   "execution_count": 200,
   "metadata": {
    "ExecuteTime": {
     "end_time": "2019-10-03T05:00:19.460877Z",
     "start_time": "2019-10-03T05:00:19.432955Z"
    }
   },
   "outputs": [],
   "source": [
    "from sklearn.datasets import load_breast_cancer\n",
    "cancer = load_breast_cancer()"
   ]
  },
  {
   "cell_type": "markdown",
   "metadata": {},
   "source": [
    "腫瘍データを行列X2, 診断データをベクトルy2, さらににX, yをデータフレームdf2に格納"
   ]
  },
  {
   "cell_type": "code",
   "execution_count": 201,
   "metadata": {
    "ExecuteTime": {
     "end_time": "2019-10-03T05:00:20.461019Z",
     "start_time": "2019-10-03T05:00:20.449021Z"
    }
   },
   "outputs": [
    {
     "data": {
      "text/plain": [
       "numpy.ndarray"
      ]
     },
     "execution_count": 201,
     "metadata": {},
     "output_type": "execute_result"
    }
   ],
   "source": [
    "X2 = cancer.data\n",
    "y2 = cancer.target\n",
    "y2 = np.array(y2)\n",
    "df2= pd.DataFrame(X2, columns=cancer.feature_names)\n",
    "df2['judge'] = y2"
   ]
  },
  {
   "cell_type": "markdown",
   "metadata": {},
   "source": [
    "トレーニング用とテスト用に分割"
   ]
  },
  {
   "cell_type": "code",
   "execution_count": 202,
   "metadata": {
    "ExecuteTime": {
     "end_time": "2019-10-03T05:00:27.588496Z",
     "start_time": "2019-10-03T05:00:27.578522Z"
    }
   },
   "outputs": [],
   "source": [
    "from sklearn.model_selection import train_test_split\n",
    "X2_train, X2_test, y2_train, y2_test = train_test_split(df2.drop(columns=['judge']), df2['judge'], train_size=0.7, random_state=0)"
   ]
  },
  {
   "cell_type": "markdown",
   "metadata": {},
   "source": [
    "機械に学習させる"
   ]
  },
  {
   "cell_type": "code",
   "execution_count": 203,
   "metadata": {
    "ExecuteTime": {
     "end_time": "2019-10-03T05:00:28.548400Z",
     "start_time": "2019-10-03T05:00:28.531442Z"
    }
   },
   "outputs": [
    {
     "name": "stdout",
     "output_type": "stream",
     "text": [
      "<class 'pandas.core.series.Series'>\n",
      "Train Acc: 0.957\n",
      "Test Acc: 0.965\n"
     ]
    }
   ],
   "source": [
    "from sklearn.linear_model import LogisticRegression\n",
    "\n",
    "logistic_regression = LogisticRegression(C=1.0)\n",
    "\n",
    "logistic_regression.fit(X2_train, y2_train)\n",
    "print(type(y2_train))\n",
    "y2_train = np.array(y2_train)\n",
    "y2_test = np.array(y2_test)\n",
    "print(f'Train Acc: {logistic_regression.score(X2_train, y2_train):.3f}')\n",
    "print(f'Test Acc: {logistic_regression.score(X2_test, y2_test):.3f}')"
   ]
  },
  {
   "cell_type": "code",
   "execution_count": 204,
   "metadata": {
    "ExecuteTime": {
     "end_time": "2019-10-03T05:00:29.436592Z",
     "start_time": "2019-10-03T05:00:29.426624Z"
    }
   },
   "outputs": [
    {
     "name": "stdout",
     "output_type": "stream",
     "text": [
      "混同行列は\n",
      "[[ 62   1]\n",
      " [  5 103]]\n",
      "です。\n"
     ]
    }
   ],
   "source": [
    "from sklearn.metrics import confusion_matrix\n",
    "y2_pred = logistic_regression.predict(X2_test)\n",
    "print(f'混同行列は')\n",
    "print(confusion_matrix(y2_test, y2_pred))\n",
    "print('です。')"
   ]
  },
  {
   "cell_type": "markdown",
   "metadata": {},
   "source": [
    "## 正答率(Accuracy)\n",
    "### 評価指標の導出方法\n",
    "単純な正答率なので、全体から見た正解数の割合になる。\n",
    "![](https://qiita-user-contents.imgix.net/https%3A%2F%2Fqiita-image-store.s3.ap-northeast-1.amazonaws.com%2F0%2F70152%2F89823105-feb7-0208-2815-4acf894786f2.png?ixlib=rb-1.2.2&auto=compress%2Cformat&gif-q=60&w=1400&fit=max&s=eb62c2ac69c2e148d55a162e07f28a26)\n",
    "\n",
    "### 評価指標の特性、どのようなときに使えるか使えないか\n",
    "\n",
    "- 分類予測がどれほどあっているかの指標、高いほど性能が高い。\n",
    "- 文字通り、正答率を見たいときに使える\n",
    "\n",
    "### 簡単なデータで実装\n",
    "\n",
    "猫を判別する2値分類問題を考えたときに  \n",
    "- TP: 13\n",
    "- TN: 8\n",
    "- FP: 9\n",
    "- FN: 3\n",
    "\n",
    "という結果だった場合、正答率は  \n",
    "\n",
    "<span style=\"font-size: 150%\">$\\begin{align} Accuracy &= \\frac{13 + 8}{13 + 8 + 9 + 3}\\\\ &= 0.636...\\end{align}$</span>\n",
    "\n",
    "となる"
   ]
  },
  {
   "cell_type": "markdown",
   "metadata": {},
   "source": [
    "### sklearnのbreat_cancer を利用して実装"
   ]
  },
  {
   "cell_type": "code",
   "execution_count": 205,
   "metadata": {
    "ExecuteTime": {
     "end_time": "2019-10-03T05:00:35.807436Z",
     "start_time": "2019-10-03T05:00:35.801487Z"
    }
   },
   "outputs": [
    {
     "name": "stdout",
     "output_type": "stream",
     "text": [
      "今回の正答率は0.9649122807017544です。\n"
     ]
    }
   ],
   "source": [
    "from sklearn.metrics import accuracy_score\n",
    "print(f'今回の正答率は{accuracy_score(y2_test, y2_pred)}です。')"
   ]
  },
  {
   "cell_type": "markdown",
   "metadata": {
    "ExecuteTime": {
     "end_time": "2019-10-03T00:43:06.169830Z",
     "start_time": "2019-10-03T00:43:06.156864Z"
    }
   },
   "source": [
    "## 適合率(Precision)\n",
    "### 評価指標の導出方法\n",
    "\n",
    "positiveと分類されたデータ(TP + FP)の中で実際にPositiveだったデータ(TP)数の割合。  \n",
    "\n",
    "![](https://qiita-user-contents.imgix.net/https%3A%2F%2Fqiita-image-store.s3.ap-northeast-1.amazonaws.com%2F0%2F70152%2F6d5a3aa8-29fb-a98f-4454-76509043133e.png?ixlib=rb-1.2.2&auto=compress%2Cformat&gif-q=60&w=1400&fit=max&s=30049a79568be07786d22eac0d2e29f9)\n",
    "\n",
    "### 評価指標の特性、どのようなときに使えるか使えないか\n",
    "\n",
    "- 適合率が高いほど性能が良く、間違った分類が少ないということを意味する。\n",
    "\n",
    "\n",
    "### 簡単なデータで実装\n",
    "\n",
    "猫を判別する2値分類問題を考えたときに  \n",
    "- TP: 13\n",
    "- TN: 8\n",
    "- FP: 9\n",
    "- FN: 3\n",
    "\n",
    "という結果だった場合、適合率は  \n",
    "\n",
    "<span style=\"font-size: 150%\">$\\begin{align} Precision &= \\frac{13}{13 + 9}\\\\ &= 0.591...\\end{align}$</span>\n",
    "\n",
    "となる"
   ]
  },
  {
   "cell_type": "markdown",
   "metadata": {},
   "source": [
    "### sklearnのbreat_cancer を利用して実装"
   ]
  },
  {
   "cell_type": "code",
   "execution_count": 206,
   "metadata": {
    "ExecuteTime": {
     "end_time": "2019-10-03T05:00:39.467413Z",
     "start_time": "2019-10-03T05:00:39.458442Z"
    }
   },
   "outputs": [
    {
     "name": "stdout",
     "output_type": "stream",
     "text": [
      "今回の適合率は0.9903846153846154です。\n"
     ]
    }
   ],
   "source": [
    "from sklearn.metrics import precision_score\n",
    "print(f'今回の適合率は{precision_score(y2_test, y2_pred)}です。')"
   ]
  },
  {
   "cell_type": "markdown",
   "metadata": {},
   "source": [
    "## 再現率(Recall)\n",
    "### 評価指標の導出方法\n",
    "\n",
    "取りこぼし無くPositiveなデータを正しくPositiveと推測できているかどうか。\n",
    "\n",
    "![](https://qiita-user-contents.imgix.net/https%3A%2F%2Fqiita-image-store.s3.ap-northeast-1.amazonaws.com%2F0%2F70152%2F2512b39c-5722-01a8-180d-44a2da38f25b.png?ixlib=rb-1.2.2&auto=compress%2Cformat&gif-q=60&w=1400&fit=max&s=d4cc727530445fec5aab764b751c7002)\n",
    "\n",
    "### 評価指標の特性、どのようなときに使えるか使えないか\n",
    "\n",
    "- 再現率が高いほど性能がよく、本来Positiveと推測すべき全データの内、どれほど回収できたかという指標。\n",
    "\n",
    "\n",
    "### 簡単なデータで実装\n",
    "\n",
    "猫を判別する2値分類問題を考えたときに  \n",
    "- TP: 13\n",
    "- TN: 8\n",
    "- FP: 9\n",
    "- FN: 3\n",
    "\n",
    "という結果だった場合、適合率は  \n",
    "\n",
    "<span style=\"font-size: 150%\">$\\begin{align} Recall &= \\frac{13}{13 + 3}\\\\ &= 0.813...\\end{align}$</span>\n",
    "\n",
    "となる"
   ]
  },
  {
   "cell_type": "markdown",
   "metadata": {},
   "source": [
    "### sklearnのbreat_cancer を利用して実装"
   ]
  },
  {
   "cell_type": "code",
   "execution_count": 207,
   "metadata": {
    "ExecuteTime": {
     "end_time": "2019-10-03T05:00:41.601663Z",
     "start_time": "2019-10-03T05:00:41.592687Z"
    }
   },
   "outputs": [
    {
     "name": "stdout",
     "output_type": "stream",
     "text": [
      "今回の再現率は0.9537037037037037です。\n"
     ]
    }
   ],
   "source": [
    "from sklearn.metrics import recall_score\n",
    "print(f'今回の再現率は{recall_score(y2_test, y2_pred)}です。')"
   ]
  },
  {
   "cell_type": "markdown",
   "metadata": {},
   "source": [
    "## 交差エントロピー誤差(Cross Entropy Loss; LogLoss)\n",
    "### 評価指標の導出方法\n",
    "\n",
    "$$\n",
    "E = - \\sum_{k=1}^n t_k \\log z_k = - (t_1 \\log z_1 + t_2 \\log z_2 + t_3 \\log z_3 + ... + t_n \\log z_n)\n",
    "$$\n",
    "\n",
    "\n",
    "\n",
    "### 評価指標の特性、どのようなときに使えるか使えないか\n",
    "\n",
    "- 交差エントロピー誤差は、pとqが近似すると数値が小さくなり、pとqが近似しなくなると数値が大きくなる。\n",
    "- 予測の正答率が高いと交差エントロピー誤差は小さくなる。\n",
    "\n",
    "\n",
    "### 簡単なデータで実装\n",
    "\n",
    "もも。りんご、ぶどうの3つの果物を予測するを解く際に、正解データが  \n",
    "\n",
    "<br>\n",
    "\n",
    "$\\begin{pmatrix}t_{1}\\\\t_{2}\\\\t_{3}\\end{pmatrix} = \\begin{pmatrix}もも\\\\りんご\\\\ぶどう\\end{pmatrix} = \\begin{pmatrix}0\\\\1\\\\0\\end{pmatrix}$\n",
    "\n",
    "<br>\n",
    "\n",
    "であり、  予測する確率ベクトルが  \n",
    "<br>\n",
    "$\\begin{pmatrix}z_{1}\\\\z_{2}\\\\z_{3}\\end{pmatrix} = \\begin{pmatrix}もも\\\\りんご\\\\ぶどう\\end{pmatrix} = \\begin{pmatrix}0.5\\\\0.2\\\\0.3\\end{pmatrix}$\n",
    "\n",
    "<br>\n",
    "\n",
    "だったときの交差エントロピー誤差 ( 今回の対数の底は10 )は  \n",
    "\n",
    "<span style=\"font-size: 150%\">$\\begin{align}E &= -(t_{1}\\log z_{1} + t_{2}\\log z_{2} + t_{3}\\log z_{3})\\\\ &= -(0 \\times \\log 0.5 + 1 \\times \\log 0.2 + 0 \\times \\log 0.3)\\\\ &= -(0 \\times (-0.30) + 1 \\times (-0.70) + 0 \\times (-0.52))\\\\ &= -(-0.70)\\\\ &= 0.70\\end{align}$</span>\n",
    "\n",
    "となる"
   ]
  },
  {
   "cell_type": "markdown",
   "metadata": {},
   "source": [
    "### sklearnのbreat_cancer を利用して実装"
   ]
  },
  {
   "cell_type": "code",
   "execution_count": 208,
   "metadata": {
    "ExecuteTime": {
     "end_time": "2019-10-03T05:00:44.874413Z",
     "start_time": "2019-10-03T05:00:44.736786Z"
    }
   },
   "outputs": [
    {
     "name": "stdout",
     "output_type": "stream",
     "text": [
      "この交差エントロピー誤差は0.09928412540597382です。\n"
     ]
    }
   ],
   "source": [
    "import math\n",
    "E = 0\n",
    "\n",
    "for i in range(len(y2_test)):\n",
    "    if y2_test[i] == 0:\n",
    "        E += -math.log(logistic_regression.predict_proba(X2_test)[i][0])\n",
    "    else:\n",
    "        E += -math.log(logistic_regression.predict_proba(X2_test)[i][1])\n",
    "\n",
    "E /= len(y2_test)\n",
    "# print(logistic_regression.predict_proba(X2_test))\n",
    "print(f'この交差エントロピー誤差は{E}です。')"
   ]
  },
  {
   "cell_type": "markdown",
   "metadata": {
    "ExecuteTime": {
     "end_time": "2019-10-03T04:47:53.410374Z",
     "start_time": "2019-10-03T04:47:53.353529Z"
    }
   },
   "source": [
    "おわり"
   ]
  }
 ],
 "metadata": {
  "kernelspec": {
   "display_name": "Python 3",
   "language": "python",
   "name": "python3"
  },
  "language_info": {
   "codemirror_mode": {
    "name": "ipython",
    "version": 3
   },
   "file_extension": ".py",
   "mimetype": "text/x-python",
   "name": "python",
   "nbconvert_exporter": "python",
   "pygments_lexer": "ipython3",
   "version": "3.7.4"
  },
  "toc": {
   "base_numbering": 1,
   "nav_menu": {},
   "number_sections": true,
   "sideBar": true,
   "skip_h1_title": false,
   "title_cell": "Table of Contents",
   "title_sidebar": "Contents",
   "toc_cell": false,
   "toc_position": {},
   "toc_section_display": true,
   "toc_window_display": false
  },
  "varInspector": {
   "cols": {
    "lenName": 16,
    "lenType": 16,
    "lenVar": 40
   },
   "kernels_config": {
    "python": {
     "delete_cmd_postfix": "",
     "delete_cmd_prefix": "del ",
     "library": "var_list.py",
     "varRefreshCmd": "print(var_dic_list())"
    },
    "r": {
     "delete_cmd_postfix": ") ",
     "delete_cmd_prefix": "rm(",
     "library": "var_list.r",
     "varRefreshCmd": "cat(var_dic_list()) "
    }
   },
   "types_to_exclude": [
    "module",
    "function",
    "builtin_function_or_method",
    "instance",
    "_Feature"
   ],
   "window_display": false
  }
 },
 "nbformat": 4,
 "nbformat_minor": 2
}
